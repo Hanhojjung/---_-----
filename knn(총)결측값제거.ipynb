{
 "cells": [
  {
   "cell_type": "code",
   "execution_count": 2,
   "metadata": {},
   "outputs": [
    {
     "name": "stdout",
     "output_type": "stream",
     "text": [
      "         어장명  정점                위도                경도    어장종류    년도   월   일  \\\n",
      "0        구룡포   3         35.922222        129.541667    우렁쉥이  2022  12  17   \n",
      "1        구룡포   4         35.922222             129.6    우렁쉥이  2022  12  17   \n",
      "2         감포   1         35.791667        129.508333      마을  2022  12  17   \n",
      "3         감포   2         35.791667            129.55      마을  2022  12  17   \n",
      "4         후포   1             36.65        129.455556    우렁쉥이  2022  12  16   \n",
      "...      ...  ..               ...               ...     ...   ...  ..  ..   \n",
      "18720  거제도남안   6  34.7636111111111  128.538055555556       굴  2007   2  13   \n",
      "18721  거제도남안   7  34.7830555555556  128.506111111111  굴/우렁쉥이  2007   2  13   \n",
      "18722     통영   1  34.8241666666667  128.493055555556      어류  2007   2  13   \n",
      "18723     통영   2            34.835  128.445555555556       굴  2007   2  13   \n",
      "18724     통영   3              34.8  128.473333333333       굴  2007   2  13   \n",
      "\n",
      "       기상  수심(m)  ...  SIO2-SI(저)  CHL-A(표)  CHL-A(저)  SS(표)  SS(저)   투명도  \\\n",
      "0      구름   45.0  ...       0.358      1.14      0.68    3.0    4.8   7.0   \n",
      "1      구름   80.0  ...       0.582      0.70      0.22    0.8    1.0  11.0   \n",
      "2      구름   41.0  ...       0.476      0.80      0.72    3.4    2.0   9.0   \n",
      "3      구름   57.0  ...       0.608      0.90      0.23    1.2    2.4   7.0   \n",
      "4      구름   49.0  ...       0.346      0.73      0.64    0.2    0.2  15.0   \n",
      "...    ..    ...  ...         ...       ...       ...    ...    ...   ...   \n",
      "18720  흐림   17.7  ...       0.535      2.99      3.54    1.6    3.4   2.3   \n",
      "18721  흐림    8.9  ...       0.526      3.52      3.61    5.2    4.6   2.7   \n",
      "18722  흐림   18.0  ...       0.500      6.34      5.79    2.4    2.8   2.5   \n",
      "18723  흐림   10.4  ...       0.527      5.70      6.59    4.2    4.4   3.0   \n",
      "18724  흐림    9.9  ...       0.370      5.91      5.80    4.6    5.6   2.8   \n",
      "\n",
      "       Unnamed: 42  Unnamed: 43  Unnamed: 44  Unnamed: 45  \n",
      "0              NaN          NaN          NaN          NaN  \n",
      "1              NaN          NaN          NaN          NaN  \n",
      "2              NaN          NaN          NaN          NaN  \n",
      "3              NaN          NaN          NaN          NaN  \n",
      "4              NaN          NaN          NaN          NaN  \n",
      "...            ...          ...          ...          ...  \n",
      "18720          NaN          NaN          NaN          NaN  \n",
      "18721          NaN          NaN          NaN          NaN  \n",
      "18722          NaN          NaN          NaN          NaN  \n",
      "18723          NaN          NaN          NaN          NaN  \n",
      "18724          NaN          NaN          NaN          NaN  \n",
      "\n",
      "[15209 rows x 46 columns]\n"
     ]
    },
    {
     "name": "stderr",
     "output_type": "stream",
     "text": [
      "C:\\Users\\admin\\AppData\\Local\\Temp\\ipykernel_14476\\2885176035.py:4: DtypeWarning: Columns (2,3) have mixed types. Specify dtype option on import or set low_memory=False.\n",
      "  df = pd.read_csv('data/어장환경 관측자료.csv')\n"
     ]
    }
   ],
   "source": [
    "import pandas as pd\n",
    "\n",
    "# 데이터프레임을 읽어옵니다.\n",
    "df = pd.read_csv('data/어장환경 관측자료.csv')\n",
    "\n",
    "# 행별로 0인 값의 개수를 세어 새로운 컬럼을 만듭니다.\n",
    "df['zero_count'] = (df == 0).sum(axis=1)\n",
    "\n",
    "# 0인 값의 개수가 2개 이상인 행들을 선택합니다.\n",
    "rows_to_delete = df[df['zero_count'] >= 2]\n",
    "\n",
    "# 선택된 행들을 삭제합니다.\n",
    "df = df.drop(rows_to_delete.index)\n",
    "\n",
    "# 'zero_count' 컬럼을 삭제합니다.\n",
    "df = df.drop('zero_count', axis=1)\n",
    "\n",
    "# 결과 데이터프레임을 확인합니다.\n",
    "print(df)"
   ]
  },
  {
   "cell_type": "code",
   "execution_count": 3,
   "metadata": {},
   "outputs": [],
   "source": [
    "# 수정된 데이터프레임을 CSV 파일로 저장합니다.\n",
    "df.to_csv('어장환경관측자료(총)_결측값제거.csv', index=False)"
   ]
  },
  {
   "cell_type": "code",
   "execution_count": 4,
   "metadata": {},
   "outputs": [],
   "source": [
    "df_총 = pd.read_csv('data/어장환경관측자료(총)_결측값제거.csv')"
   ]
  },
  {
   "cell_type": "code",
   "execution_count": 5,
   "metadata": {},
   "outputs": [],
   "source": [
    "df_총 = df_총.dropna()"
   ]
  }
 ],
 "metadata": {
  "kernelspec": {
   "display_name": "base",
   "language": "python",
   "name": "python3"
  },
  "language_info": {
   "codemirror_mode": {
    "name": "ipython",
    "version": 3
   },
   "file_extension": ".py",
   "mimetype": "text/x-python",
   "name": "python",
   "nbconvert_exporter": "python",
   "pygments_lexer": "ipython3",
   "version": "3.10.9"
  },
  "orig_nbformat": 4
 },
 "nbformat": 4,
 "nbformat_minor": 2
}
