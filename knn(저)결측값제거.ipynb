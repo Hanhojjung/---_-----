{
 "cells": [
  {
   "cell_type": "code",
   "execution_count": 1,
   "metadata": {},
   "outputs": [],
   "source": [
    "import pandas as pd\n",
    "import matplotlib.pyplot as plt\n",
    "from matplotlib import font_manager, rc\n",
    "df_저 = pd.read_csv('data/어장환경관측자료(저층).csv')"
   ]
  },
  {
   "cell_type": "code",
   "execution_count": 2,
   "metadata": {},
   "outputs": [],
   "source": [
    "font_path = \"data/서울한강 장체EB.TTF\"  # 실제 한글 폰트 파일 경로로 변경해야 합니다.\n",
    "font_name = font_manager.FontProperties(fname=font_path).get_name()\n",
    "rc('font', family=font_name)"
   ]
  },
  {
   "cell_type": "code",
   "execution_count": 3,
   "metadata": {},
   "outputs": [
    {
     "name": "stdout",
     "output_type": "stream",
     "text": [
      "        어장명  정점  정점2         위도          경도  어장종류    년도   월   일      기상  ...  \\\n",
      "0      가로림만   4  7.0  36.914444  126.365278    패류  2010  12   1       -  ...   \n",
      "1      가로림만   4  7.0  36.914444  126.365278    패류  2010  10   6       -  ...   \n",
      "2      가로림만   4  7.0  36.914444  126.365278    패류  2010   8   8       -  ...   \n",
      "3      가로림만   4  7.0  36.914444  126.365278    패류  2010   6   8       -  ...   \n",
      "4      가로림만   4  7.0  36.914444  126.365278    패류  2010   4   3       -  ...   \n",
      "...     ...  ..  ...        ...         ...   ...   ...  ..  ..     ...  ...   \n",
      "15114    후포   3  4.0  36.650000  129.513889  우렁쉥이  2013   4  12       -  ...   \n",
      "15115    후포   3  4.0  36.650000  129.513889  우렁쉥이  2013   2  27       -  ...   \n",
      "15116    후포   2  5.0  36.650000  129.523056  우렁쉥이  2017   6  15      맑음  ...   \n",
      "15117    후포   2  5.0  36.650000  129.523056  우렁쉥이  2017   4  15  맑음(바람)  ...   \n",
      "15118    후포   2  5.0  36.650000  129.523056  우렁쉥이  2017   2  12      맑음  ...   \n",
      "\n",
      "       NO3-N(저)  NO2-N(저)  DIN(저)  TN(저)  DIP(저)  TP(저)  SIO2-SI(저)  CHL-A(저)  \\\n",
      "0         0.123     0.004   0.136  0.740   0.024  0.027       0.282      0.34   \n",
      "1         0.067     0.033   0.102  0.177   0.015  0.016       0.257      0.50   \n",
      "2         0.017     0.003   0.030  0.071   0.009  0.052       0.066      0.95   \n",
      "3         0.115     0.006   0.137  0.235   0.017  0.030       0.418      1.56   \n",
      "4         0.099     0.002   0.117  0.284   0.014  0.044       0.279      1.85   \n",
      "...         ...       ...     ...    ...     ...    ...         ...       ...   \n",
      "15114     0.231     0.003   0.258  0.329   0.051  0.057       0.829      0.53   \n",
      "15115     0.207     0.002   0.235  0.256   0.043  0.048       0.667      0.12   \n",
      "15116     0.237     0.001   0.243  0.272   0.036  0.044       0.581      0.10   \n",
      "15117     0.218     0.001   0.230  0.251   0.037  0.040       0.599      0.30   \n",
      "15118     0.102     0.004   0.109  0.169   0.017  0.021       0.338      0.15   \n",
      "\n",
      "       SS(저)   투명도  \n",
      "0       20.4   0.7  \n",
      "1       86.2   1.1  \n",
      "2       45.0   1.2  \n",
      "3       38.6   1.0  \n",
      "4       30.2   0.8  \n",
      "...      ...   ...  \n",
      "15114    4.0   8.0  \n",
      "15115    2.8  13.0  \n",
      "15116    2.8  10.0  \n",
      "15117    0.8   5.0  \n",
      "15118    1.2  16.0  \n",
      "\n",
      "[15119 rows x 28 columns]\n"
     ]
    }
   ],
   "source": [
    "import pandas as pd\n",
    "\n",
    "# 데이터프레임을 읽어옵니다.\n",
    "df_저 = pd.read_csv('data/어장환경관측자료(저층).csv')\n",
    "\n",
    "# 행별로 0인 값의 개수를 세어 새로운 컬럼을 만듭니다.\n",
    "df_저['zero_count'] = (df_저 == 0).sum(axis=1)\n",
    "\n",
    "# 0인 값의 개수가 2개 이상인 행들을 선택합니다.\n",
    "rows_to_delete = df_저[df_저['zero_count'] >= 2]\n",
    "\n",
    "# 선택된 행들을 삭제합니다.\n",
    "df_저 = df_저.drop(rows_to_delete.index)\n",
    "\n",
    "# 'zero_count' 컬럼을 삭제합니다.\n",
    "df_저 = df_저.drop('zero_count', axis=1)\n",
    "\n",
    "# 결과 데이터프레임을 확인합니다.\n",
    "print(df_저)\n"
   ]
  },
  {
   "cell_type": "markdown",
   "metadata": {},
   "source": []
  },
  {
   "cell_type": "code",
   "execution_count": 4,
   "metadata": {},
   "outputs": [],
   "source": [
    "# 수정된 데이터프레임을 CSV 파일로 저장합니다.\n",
    "# df_저.to_csv('어장환경관측자료(저)_결측값제거.csv', index=False)"
   ]
  },
  {
   "cell_type": "code",
   "execution_count": 5,
   "metadata": {},
   "outputs": [],
   "source": [
    "df_저 = pd.read_csv('data/어장환경관측자료(저)_결측값제거.csv')"
   ]
  },
  {
   "cell_type": "code",
   "execution_count": 6,
   "metadata": {},
   "outputs": [
    {
     "name": "stdout",
     "output_type": "stream",
     "text": [
      "<class 'pandas.core.frame.DataFrame'>\n",
      "RangeIndex: 17017 entries, 0 to 17016\n",
      "Data columns (total 30 columns):\n",
      " #   Column       Non-Null Count  Dtype  \n",
      "---  ------       --------------  -----  \n",
      " 0   어장명          17017 non-null  object \n",
      " 1   정점           17017 non-null  int64  \n",
      " 2   위도           17017 non-null  object \n",
      " 3   경도           17017 non-null  object \n",
      " 4   어장종류         17016 non-null  object \n",
      " 5   년도           17017 non-null  int64  \n",
      " 6   월            17017 non-null  int64  \n",
      " 7   일            17017 non-null  int64  \n",
      " 8   기상           17017 non-null  object \n",
      " 9   수심(m)        17009 non-null  float64\n",
      " 10  수온(표)        17017 non-null  float64\n",
      " 11  수온(저)        16796 non-null  float64\n",
      " 12  수온(차이)       17017 non-null  float64\n",
      " 13  염분(저)        16796 non-null  float64\n",
      " 14  Ph(저)        16796 non-null  float64\n",
      " 15  DO(저)        16796 non-null  float64\n",
      " 16  COD(저)       16795 non-null  float64\n",
      " 17  NH4-N(저)     16796 non-null  float64\n",
      " 18  NO3-N(저)     16796 non-null  float64\n",
      " 19  NO2-N(저)     16796 non-null  float64\n",
      " 20  DIN(저)       16796 non-null  float64\n",
      " 21  TN(저)        16796 non-null  float64\n",
      " 22  DIP(저)       16796 non-null  float64\n",
      " 23  TP(저)        16796 non-null  float64\n",
      " 24  SIO2-SI(저)   16796 non-null  float64\n",
      " 25  CHL-A(저)     16796 non-null  float64\n",
      " 26  SS(저)        16796 non-null  float64\n",
      " 27  투명도          16796 non-null  float64\n",
      " 28  Unnamed: 28  0 non-null      float64\n",
      " 29  Unnamed: 29  0 non-null      float64\n",
      "dtypes: float64(21), int64(4), object(5)\n",
      "memory usage: 3.9+ MB\n"
     ]
    }
   ],
   "source": [
    "df_저.info()"
   ]
  },
  {
   "cell_type": "code",
   "execution_count": 7,
   "metadata": {},
   "outputs": [
    {
     "data": {
      "text/plain": [
       "어장명                0\n",
       "정점                 0\n",
       "위도                 0\n",
       "경도                 0\n",
       "어장종류               1\n",
       "년도                 0\n",
       "월                  0\n",
       "일                  0\n",
       "기상                 0\n",
       "수심(m)              8\n",
       "수온(표)              0\n",
       "수온(저)            221\n",
       "수온(차이)             0\n",
       "염분(저)            221\n",
       "Ph(저)            221\n",
       "DO(저)            221\n",
       "COD(저)           222\n",
       "NH4-N(저)         221\n",
       "NO3-N(저)         221\n",
       "NO2-N(저)         221\n",
       "DIN(저)           221\n",
       "TN(저)            221\n",
       "DIP(저)           221\n",
       "TP(저)            221\n",
       "SIO2-SI(저)       221\n",
       "CHL-A(저)         221\n",
       "SS(저)            221\n",
       "투명도              221\n",
       "Unnamed: 28    17017\n",
       "Unnamed: 29    17017\n",
       "dtype: int64"
      ]
     },
     "execution_count": 7,
     "metadata": {},
     "output_type": "execute_result"
    }
   ],
   "source": [
    "df_저.isnull().sum()"
   ]
  },
  {
   "cell_type": "code",
   "execution_count": 8,
   "metadata": {},
   "outputs": [],
   "source": [
    "df_저 = df_저.dropna()"
   ]
  },
  {
   "cell_type": "code",
   "execution_count": 9,
   "metadata": {},
   "outputs": [
    {
     "data": {
      "text/plain": [
       "어장명            0.0\n",
       "정점             0.0\n",
       "위도             0.0\n",
       "경도             0.0\n",
       "어장종류           0.0\n",
       "년도             0.0\n",
       "월              0.0\n",
       "일              0.0\n",
       "기상             0.0\n",
       "수심(m)          0.0\n",
       "수온(표)          0.0\n",
       "수온(저)          0.0\n",
       "수온(차이)         0.0\n",
       "염분(저)          0.0\n",
       "Ph(저)          0.0\n",
       "DO(저)          0.0\n",
       "COD(저)         0.0\n",
       "NH4-N(저)       0.0\n",
       "NO3-N(저)       0.0\n",
       "NO2-N(저)       0.0\n",
       "DIN(저)         0.0\n",
       "TN(저)          0.0\n",
       "DIP(저)         0.0\n",
       "TP(저)          0.0\n",
       "SIO2-SI(저)     0.0\n",
       "CHL-A(저)       0.0\n",
       "SS(저)          0.0\n",
       "투명도            0.0\n",
       "Unnamed: 28    0.0\n",
       "Unnamed: 29    0.0\n",
       "dtype: float64"
      ]
     },
     "execution_count": 9,
     "metadata": {},
     "output_type": "execute_result"
    }
   ],
   "source": [
    "df_저.isnull().sum()"
   ]
  },
  {
   "cell_type": "code",
   "execution_count": 10,
   "metadata": {},
   "outputs": [
    {
     "data": {
      "text/plain": [
       "Series([], Name: DO(저), dtype: int64)"
      ]
     },
     "execution_count": 10,
     "metadata": {},
     "output_type": "execute_result"
    }
   ],
   "source": [
    "(df_저['DO(저)']<=3).value_counts()"
   ]
  },
  {
   "cell_type": "code",
   "execution_count": 11,
   "metadata": {},
   "outputs": [
    {
     "data": {
      "text/html": [
       "<div>\n",
       "<style scoped>\n",
       "    .dataframe tbody tr th:only-of-type {\n",
       "        vertical-align: middle;\n",
       "    }\n",
       "\n",
       "    .dataframe tbody tr th {\n",
       "        vertical-align: top;\n",
       "    }\n",
       "\n",
       "    .dataframe thead th {\n",
       "        text-align: right;\n",
       "    }\n",
       "</style>\n",
       "<table border=\"1\" class=\"dataframe\">\n",
       "  <thead>\n",
       "    <tr style=\"text-align: right;\">\n",
       "      <th></th>\n",
       "      <th>어장명</th>\n",
       "      <th>정점</th>\n",
       "      <th>위도</th>\n",
       "      <th>경도</th>\n",
       "      <th>어장종류</th>\n",
       "      <th>년도</th>\n",
       "      <th>월</th>\n",
       "      <th>일</th>\n",
       "      <th>기상</th>\n",
       "      <th>수심(m)</th>\n",
       "      <th>...</th>\n",
       "      <th>DIN(저)</th>\n",
       "      <th>TN(저)</th>\n",
       "      <th>DIP(저)</th>\n",
       "      <th>TP(저)</th>\n",
       "      <th>SIO2-SI(저)</th>\n",
       "      <th>CHL-A(저)</th>\n",
       "      <th>SS(저)</th>\n",
       "      <th>투명도</th>\n",
       "      <th>Unnamed: 28</th>\n",
       "      <th>Unnamed: 29</th>\n",
       "    </tr>\n",
       "  </thead>\n",
       "  <tbody>\n",
       "  </tbody>\n",
       "</table>\n",
       "<p>0 rows × 30 columns</p>\n",
       "</div>"
      ],
      "text/plain": [
       "Empty DataFrame\n",
       "Columns: [어장명, 정점, 위도, 경도, 어장종류, 년도, 월, 일, 기상, 수심(m), 수온(표), 수온(저), 수온(차이), 염분(저), Ph(저), DO(저), COD(저), NH4-N(저), NO3-N(저), NO2-N(저), DIN(저), TN(저), DIP(저), TP(저), SIO2-SI(저), CHL-A(저), SS(저), 투명도, Unnamed: 28, Unnamed: 29]\n",
       "Index: []\n",
       "\n",
       "[0 rows x 30 columns]"
      ]
     },
     "execution_count": 11,
     "metadata": {},
     "output_type": "execute_result"
    }
   ],
   "source": [
    "df2 = df_저[df_저['DO(저)']<=3] #저층 DO가 3이하인 데이터 620개\n",
    "df2"
   ]
  },
  {
   "cell_type": "code",
   "execution_count": 12,
   "metadata": {},
   "outputs": [
    {
     "data": {
      "text/html": [
       "<div>\n",
       "<style scoped>\n",
       "    .dataframe tbody tr th:only-of-type {\n",
       "        vertical-align: middle;\n",
       "    }\n",
       "\n",
       "    .dataframe tbody tr th {\n",
       "        vertical-align: top;\n",
       "    }\n",
       "\n",
       "    .dataframe thead th {\n",
       "        text-align: right;\n",
       "    }\n",
       "</style>\n",
       "<table border=\"1\" class=\"dataframe\">\n",
       "  <thead>\n",
       "    <tr style=\"text-align: right;\">\n",
       "      <th></th>\n",
       "      <th>어장명</th>\n",
       "      <th>개수</th>\n",
       "    </tr>\n",
       "  </thead>\n",
       "  <tbody>\n",
       "  </tbody>\n",
       "</table>\n",
       "</div>"
      ],
      "text/plain": [
       "Empty DataFrame\n",
       "Columns: [어장명, 개수]\n",
       "Index: []"
      ]
     },
     "execution_count": 12,
     "metadata": {},
     "output_type": "execute_result"
    }
   ],
   "source": [
    "group = df2.groupby('어장명').size().reset_index(name='개수')\n",
    "group"
   ]
  },
  {
   "cell_type": "markdown",
   "metadata": {},
   "source": [
    "=> 총 15곳의 어장에서 빈산소수괴가 발생함"
   ]
  },
  {
   "cell_type": "code",
   "execution_count": 13,
   "metadata": {},
   "outputs": [
    {
     "data": {
      "text/html": [
       "<div>\n",
       "<style scoped>\n",
       "    .dataframe tbody tr th:only-of-type {\n",
       "        vertical-align: middle;\n",
       "    }\n",
       "\n",
       "    .dataframe tbody tr th {\n",
       "        vertical-align: top;\n",
       "    }\n",
       "\n",
       "    .dataframe thead th {\n",
       "        text-align: right;\n",
       "    }\n",
       "</style>\n",
       "<table border=\"1\" class=\"dataframe\">\n",
       "  <thead>\n",
       "    <tr style=\"text-align: right;\">\n",
       "      <th></th>\n",
       "      <th>어장명</th>\n",
       "      <th>정점</th>\n",
       "      <th>개수</th>\n",
       "    </tr>\n",
       "  </thead>\n",
       "  <tbody>\n",
       "  </tbody>\n",
       "</table>\n",
       "</div>"
      ],
      "text/plain": [
       "Empty DataFrame\n",
       "Columns: [어장명, 정점, 개수]\n",
       "Index: []"
      ]
     },
     "execution_count": 13,
     "metadata": {},
     "output_type": "execute_result"
    }
   ],
   "source": [
    "group정점 = df2.groupby(['어장명','정점']).size().reset_index(name='개수')\n",
    "group정점"
   ]
  },
  {
   "cell_type": "markdown",
   "metadata": {},
   "source": [
    "=> 총 91개의 정점에서 빈산소수괴 발생"
   ]
  },
  {
   "cell_type": "code",
   "execution_count": 14,
   "metadata": {},
   "outputs": [
    {
     "data": {
      "text/plain": [
       "array([], dtype=object)"
      ]
     },
     "execution_count": 14,
     "metadata": {},
     "output_type": "execute_result"
    }
   ],
   "source": [
    "df2['어장명'].unique()"
   ]
  },
  {
   "cell_type": "code",
   "execution_count": 15,
   "metadata": {},
   "outputs": [
    {
     "data": {
      "text/html": [
       "<div>\n",
       "<style scoped>\n",
       "    .dataframe tbody tr th:only-of-type {\n",
       "        vertical-align: middle;\n",
       "    }\n",
       "\n",
       "    .dataframe tbody tr th {\n",
       "        vertical-align: top;\n",
       "    }\n",
       "\n",
       "    .dataframe thead th {\n",
       "        text-align: right;\n",
       "    }\n",
       "</style>\n",
       "<table border=\"1\" class=\"dataframe\">\n",
       "  <thead>\n",
       "    <tr style=\"text-align: right;\">\n",
       "      <th></th>\n",
       "      <th>어장명</th>\n",
       "      <th>정점</th>\n",
       "      <th>위도</th>\n",
       "      <th>경도</th>\n",
       "      <th>어장종류</th>\n",
       "      <th>년도</th>\n",
       "      <th>월</th>\n",
       "      <th>일</th>\n",
       "      <th>기상</th>\n",
       "      <th>수심(m)</th>\n",
       "      <th>...</th>\n",
       "      <th>DIN(저)</th>\n",
       "      <th>TN(저)</th>\n",
       "      <th>DIP(저)</th>\n",
       "      <th>TP(저)</th>\n",
       "      <th>SIO2-SI(저)</th>\n",
       "      <th>CHL-A(저)</th>\n",
       "      <th>SS(저)</th>\n",
       "      <th>투명도</th>\n",
       "      <th>Unnamed: 28</th>\n",
       "      <th>Unnamed: 29</th>\n",
       "    </tr>\n",
       "  </thead>\n",
       "  <tbody>\n",
       "  </tbody>\n",
       "</table>\n",
       "<p>0 rows × 30 columns</p>\n",
       "</div>"
      ],
      "text/plain": [
       "Empty DataFrame\n",
       "Columns: [어장명, 정점, 위도, 경도, 어장종류, 년도, 월, 일, 기상, 수심(m), 수온(표), 수온(저), 수온(차이), 염분(저), Ph(저), DO(저), COD(저), NH4-N(저), NO3-N(저), NO2-N(저), DIN(저), TN(저), DIP(저), TP(저), SIO2-SI(저), CHL-A(저), SS(저), 투명도, Unnamed: 28, Unnamed: 29]\n",
       "Index: []\n",
       "\n",
       "[0 rows x 30 columns]"
      ]
     },
     "execution_count": 15,
     "metadata": {},
     "output_type": "execute_result"
    }
   ],
   "source": [
    "df2_ = df_저[df_저['DO(저)']>3] #저층 DO가 3초과 데이터\n",
    "df2_ "
   ]
  },
  {
   "cell_type": "code",
   "execution_count": 16,
   "metadata": {},
   "outputs": [
    {
     "data": {
      "text/html": [
       "<div>\n",
       "<style scoped>\n",
       "    .dataframe tbody tr th:only-of-type {\n",
       "        vertical-align: middle;\n",
       "    }\n",
       "\n",
       "    .dataframe tbody tr th {\n",
       "        vertical-align: top;\n",
       "    }\n",
       "\n",
       "    .dataframe thead th {\n",
       "        text-align: right;\n",
       "    }\n",
       "</style>\n",
       "<table border=\"1\" class=\"dataframe\">\n",
       "  <thead>\n",
       "    <tr style=\"text-align: right;\">\n",
       "      <th></th>\n",
       "      <th>어장명</th>\n",
       "      <th>정점</th>\n",
       "      <th>위도</th>\n",
       "      <th>경도</th>\n",
       "      <th>어장종류</th>\n",
       "      <th>년도</th>\n",
       "      <th>월</th>\n",
       "      <th>일</th>\n",
       "      <th>기상</th>\n",
       "      <th>수심(m)</th>\n",
       "      <th>...</th>\n",
       "      <th>DIN(저)</th>\n",
       "      <th>TN(저)</th>\n",
       "      <th>DIP(저)</th>\n",
       "      <th>TP(저)</th>\n",
       "      <th>SIO2-SI(저)</th>\n",
       "      <th>CHL-A(저)</th>\n",
       "      <th>SS(저)</th>\n",
       "      <th>투명도</th>\n",
       "      <th>Unnamed: 28</th>\n",
       "      <th>Unnamed: 29</th>\n",
       "    </tr>\n",
       "  </thead>\n",
       "  <tbody>\n",
       "  </tbody>\n",
       "</table>\n",
       "<p>0 rows × 30 columns</p>\n",
       "</div>"
      ],
      "text/plain": [
       "Empty DataFrame\n",
       "Columns: [어장명, 정점, 위도, 경도, 어장종류, 년도, 월, 일, 기상, 수심(m), 수온(표), 수온(저), 수온(차이), 염분(저), Ph(저), DO(저), COD(저), NH4-N(저), NO3-N(저), NO2-N(저), DIN(저), TN(저), DIP(저), TP(저), SIO2-SI(저), CHL-A(저), SS(저), 투명도, Unnamed: 28, Unnamed: 29]\n",
       "Index: []\n",
       "\n",
       "[0 rows x 30 columns]"
      ]
     },
     "execution_count": 16,
     "metadata": {},
     "output_type": "execute_result"
    }
   ],
   "source": [
    "df2진해만 = df2[df2['어장명']=='진해만'] # 저층 3이하 진해만 데이터\n",
    "df2진해만"
   ]
  },
  {
   "cell_type": "code",
   "execution_count": 17,
   "metadata": {},
   "outputs": [
    {
     "data": {
      "text/html": [
       "<div>\n",
       "<style scoped>\n",
       "    .dataframe tbody tr th:only-of-type {\n",
       "        vertical-align: middle;\n",
       "    }\n",
       "\n",
       "    .dataframe tbody tr th {\n",
       "        vertical-align: top;\n",
       "    }\n",
       "\n",
       "    .dataframe thead th {\n",
       "        text-align: right;\n",
       "    }\n",
       "</style>\n",
       "<table border=\"1\" class=\"dataframe\">\n",
       "  <thead>\n",
       "    <tr style=\"text-align: right;\">\n",
       "      <th></th>\n",
       "      <th>어장명</th>\n",
       "      <th>정점</th>\n",
       "      <th>위도</th>\n",
       "      <th>경도</th>\n",
       "      <th>어장종류</th>\n",
       "      <th>년도</th>\n",
       "      <th>월</th>\n",
       "      <th>일</th>\n",
       "      <th>기상</th>\n",
       "      <th>수심(m)</th>\n",
       "      <th>...</th>\n",
       "      <th>DIN(저)</th>\n",
       "      <th>TN(저)</th>\n",
       "      <th>DIP(저)</th>\n",
       "      <th>TP(저)</th>\n",
       "      <th>SIO2-SI(저)</th>\n",
       "      <th>CHL-A(저)</th>\n",
       "      <th>SS(저)</th>\n",
       "      <th>투명도</th>\n",
       "      <th>Unnamed: 28</th>\n",
       "      <th>Unnamed: 29</th>\n",
       "    </tr>\n",
       "  </thead>\n",
       "  <tbody>\n",
       "  </tbody>\n",
       "</table>\n",
       "<p>0 rows × 30 columns</p>\n",
       "</div>"
      ],
      "text/plain": [
       "Empty DataFrame\n",
       "Columns: [어장명, 정점, 위도, 경도, 어장종류, 년도, 월, 일, 기상, 수심(m), 수온(표), 수온(저), 수온(차이), 염분(저), Ph(저), DO(저), COD(저), NH4-N(저), NO3-N(저), NO2-N(저), DIN(저), TN(저), DIP(저), TP(저), SIO2-SI(저), CHL-A(저), SS(저), 투명도, Unnamed: 28, Unnamed: 29]\n",
       "Index: []\n",
       "\n",
       "[0 rows x 30 columns]"
      ]
     },
     "execution_count": 17,
     "metadata": {},
     "output_type": "execute_result"
    }
   ],
   "source": [
    "df2_진해만 = df2_[df2_['어장명']=='진해만'] #저층 3이하 진해만 데이터\n",
    "df2_진해만"
   ]
  },
  {
   "cell_type": "code",
   "execution_count": 18,
   "metadata": {},
   "outputs": [
    {
     "data": {
      "text/plain": [
       "array([], dtype=int64)"
      ]
     },
     "execution_count": 18,
     "metadata": {},
     "output_type": "execute_result"
    }
   ],
   "source": [
    "df2진해만['정점'].unique()"
   ]
  },
  {
   "cell_type": "code",
   "execution_count": 19,
   "metadata": {},
   "outputs": [
    {
     "name": "stdout",
     "output_type": "stream",
     "text": [
      "Empty DataFrame\n",
      "Columns: [정점, 개수]\n",
      "Index: []\n"
     ]
    }
   ],
   "source": [
    "group_정점 = df2진해만.groupby('정점').size().reset_index(name='개수')\n",
    "print(group_정점)"
   ]
  },
  {
   "cell_type": "code",
   "execution_count": 20,
   "metadata": {},
   "outputs": [
    {
     "data": {
      "text/html": [
       "<div>\n",
       "<style scoped>\n",
       "    .dataframe tbody tr th:only-of-type {\n",
       "        vertical-align: middle;\n",
       "    }\n",
       "\n",
       "    .dataframe tbody tr th {\n",
       "        vertical-align: top;\n",
       "    }\n",
       "\n",
       "    .dataframe thead th {\n",
       "        text-align: right;\n",
       "    }\n",
       "</style>\n",
       "<table border=\"1\" class=\"dataframe\">\n",
       "  <thead>\n",
       "    <tr style=\"text-align: right;\">\n",
       "      <th></th>\n",
       "      <th>어장명</th>\n",
       "      <th>정점</th>\n",
       "      <th>위도</th>\n",
       "      <th>경도</th>\n",
       "      <th>어장종류</th>\n",
       "      <th>년도</th>\n",
       "      <th>월</th>\n",
       "      <th>일</th>\n",
       "      <th>기상</th>\n",
       "      <th>수심(m)</th>\n",
       "      <th>...</th>\n",
       "      <th>DIN(저)</th>\n",
       "      <th>TN(저)</th>\n",
       "      <th>DIP(저)</th>\n",
       "      <th>TP(저)</th>\n",
       "      <th>SIO2-SI(저)</th>\n",
       "      <th>CHL-A(저)</th>\n",
       "      <th>SS(저)</th>\n",
       "      <th>투명도</th>\n",
       "      <th>Unnamed: 28</th>\n",
       "      <th>Unnamed: 29</th>\n",
       "    </tr>\n",
       "  </thead>\n",
       "  <tbody>\n",
       "  </tbody>\n",
       "</table>\n",
       "<p>0 rows × 30 columns</p>\n",
       "</div>"
      ],
      "text/plain": [
       "Empty DataFrame\n",
       "Columns: [어장명, 정점, 위도, 경도, 어장종류, 년도, 월, 일, 기상, 수심(m), 수온(표), 수온(저), 수온(차이), 염분(저), Ph(저), DO(저), COD(저), NH4-N(저), NO3-N(저), NO2-N(저), DIN(저), TN(저), DIP(저), TP(저), SIO2-SI(저), CHL-A(저), SS(저), 투명도, Unnamed: 28, Unnamed: 29]\n",
       "Index: []\n",
       "\n",
       "[0 rows x 30 columns]"
      ]
     },
     "execution_count": 20,
     "metadata": {},
     "output_type": "execute_result"
    }
   ],
   "source": [
    "df2진해만 = df2진해만[(df2진해만['정점'] == 4) & (df2진해만['어장명'] == '진해만')]\n",
    "df2진해만"
   ]
  },
  {
   "cell_type": "code",
   "execution_count": 21,
   "metadata": {},
   "outputs": [
    {
     "data": {
      "text/html": [
       "<div>\n",
       "<style scoped>\n",
       "    .dataframe tbody tr th:only-of-type {\n",
       "        vertical-align: middle;\n",
       "    }\n",
       "\n",
       "    .dataframe tbody tr th {\n",
       "        vertical-align: top;\n",
       "    }\n",
       "\n",
       "    .dataframe thead th {\n",
       "        text-align: right;\n",
       "    }\n",
       "</style>\n",
       "<table border=\"1\" class=\"dataframe\">\n",
       "  <thead>\n",
       "    <tr style=\"text-align: right;\">\n",
       "      <th></th>\n",
       "      <th>어장명</th>\n",
       "      <th>정점</th>\n",
       "      <th>위도</th>\n",
       "      <th>경도</th>\n",
       "      <th>어장종류</th>\n",
       "      <th>년도</th>\n",
       "      <th>월</th>\n",
       "      <th>일</th>\n",
       "      <th>기상</th>\n",
       "      <th>수심(m)</th>\n",
       "      <th>...</th>\n",
       "      <th>DIN(저)</th>\n",
       "      <th>TN(저)</th>\n",
       "      <th>DIP(저)</th>\n",
       "      <th>TP(저)</th>\n",
       "      <th>SIO2-SI(저)</th>\n",
       "      <th>CHL-A(저)</th>\n",
       "      <th>SS(저)</th>\n",
       "      <th>투명도</th>\n",
       "      <th>Unnamed: 28</th>\n",
       "      <th>Unnamed: 29</th>\n",
       "    </tr>\n",
       "  </thead>\n",
       "  <tbody>\n",
       "  </tbody>\n",
       "</table>\n",
       "<p>0 rows × 30 columns</p>\n",
       "</div>"
      ],
      "text/plain": [
       "Empty DataFrame\n",
       "Columns: [어장명, 정점, 위도, 경도, 어장종류, 년도, 월, 일, 기상, 수심(m), 수온(표), 수온(저), 수온(차이), 염분(저), Ph(저), DO(저), COD(저), NH4-N(저), NO3-N(저), NO2-N(저), DIN(저), TN(저), DIP(저), TP(저), SIO2-SI(저), CHL-A(저), SS(저), 투명도, Unnamed: 28, Unnamed: 29]\n",
       "Index: []\n",
       "\n",
       "[0 rows x 30 columns]"
      ]
     },
     "execution_count": 21,
     "metadata": {},
     "output_type": "execute_result"
    }
   ],
   "source": [
    "df2_진해만 = df2_진해만[(df2_진해만['정점'] == 4) & (df2_진해만['어장명'] == '진해만')]\n",
    "df2_진해만.head()"
   ]
  },
  {
   "cell_type": "code",
   "execution_count": 22,
   "metadata": {},
   "outputs": [
    {
     "name": "stderr",
     "output_type": "stream",
     "text": [
      "c:\\Users\\admin\\anaconda3\\lib\\site-packages\\IPython\\core\\pylabtools.py:152: UserWarning: Glyph 8722 (\\N{MINUS SIGN}) missing from current font.\n",
      "  fig.canvas.print_figure(bytes_io, **kw)\n"
     ]
    },
    {
     "data": {
      "image/png": "[encoded data removed]",
      "text/plain": [
       "<Figure size 1000x600 with 1 Axes>"
      ]
     },
     "metadata": {},
     "output_type": "display_data"
    }
   ],
   "source": [
    "# 산점도 시각화 => 진해만 \n",
    "plt.figure(figsize=(10, 6))\n",
    "plt.scatter(df2진해만['NH4-N(저)'], df2진해만['Ph(저)'], color='blue', label='빈산소수괴 발생')\n",
    "plt.scatter(df2_진해만['NH4-N(저)'], df2_진해만['Ph(저)'], color='orange', label='정상 데이터')\n",
    "plt.xlabel('NH4-N(저)')\n",
    "plt.ylabel('DO(표)')\n",
    "plt.title('빈산소수괴 VS 정상 데이터 산점도')\n",
    "plt.legend()\n",
    "plt.grid(True)\n",
    "plt.show()"
   ]
  },
  {
   "cell_type": "code",
   "execution_count": 23,
   "metadata": {},
   "outputs": [
    {
     "data": {
      "text/plain": [
       "Series([], Name: 정점, dtype: int64)"
      ]
     },
     "execution_count": 23,
     "metadata": {},
     "output_type": "execute_result"
    }
   ],
   "source": [
    "df2 = df2[df2['어장명']=='진해만']\n",
    "df2['정점']"
   ]
  },
  {
   "cell_type": "markdown",
   "metadata": {},
   "source": [
    "#folium으로 정점 찍기"
   ]
  },
  {
   "cell_type": "code",
   "execution_count": 24,
   "metadata": {},
   "outputs": [],
   "source": [
    "import folium"
   ]
  },
  {
   "cell_type": "code",
   "execution_count": 25,
   "metadata": {},
   "outputs": [
    {
     "data": {
      "text/html": [
       "<div>\n",
       "<style scoped>\n",
       "    .dataframe tbody tr th:only-of-type {\n",
       "        vertical-align: middle;\n",
       "    }\n",
       "\n",
       "    .dataframe tbody tr th {\n",
       "        vertical-align: top;\n",
       "    }\n",
       "\n",
       "    .dataframe thead th {\n",
       "        text-align: right;\n",
       "    }\n",
       "</style>\n",
       "<table border=\"1\" class=\"dataframe\">\n",
       "  <thead>\n",
       "    <tr style=\"text-align: right;\">\n",
       "      <th></th>\n",
       "      <th>어장명</th>\n",
       "      <th>정점</th>\n",
       "      <th>위도</th>\n",
       "      <th>경도</th>\n",
       "      <th>어장종류</th>\n",
       "      <th>년도</th>\n",
       "      <th>월</th>\n",
       "      <th>일</th>\n",
       "      <th>기상</th>\n",
       "      <th>수심(m)</th>\n",
       "      <th>...</th>\n",
       "      <th>DIN(저)</th>\n",
       "      <th>TN(저)</th>\n",
       "      <th>DIP(저)</th>\n",
       "      <th>TP(저)</th>\n",
       "      <th>SIO2-SI(저)</th>\n",
       "      <th>CHL-A(저)</th>\n",
       "      <th>SS(저)</th>\n",
       "      <th>투명도</th>\n",
       "      <th>Unnamed: 28</th>\n",
       "      <th>Unnamed: 29</th>\n",
       "    </tr>\n",
       "  </thead>\n",
       "  <tbody>\n",
       "  </tbody>\n",
       "</table>\n",
       "<p>0 rows × 30 columns</p>\n",
       "</div>"
      ],
      "text/plain": [
       "Empty DataFrame\n",
       "Columns: [어장명, 정점, 위도, 경도, 어장종류, 년도, 월, 일, 기상, 수심(m), 수온(표), 수온(저), 수온(차이), 염분(저), Ph(저), DO(저), COD(저), NH4-N(저), NO3-N(저), NO2-N(저), DIN(저), TN(저), DIP(저), TP(저), SIO2-SI(저), CHL-A(저), SS(저), 투명도, Unnamed: 28, Unnamed: 29]\n",
       "Index: []\n",
       "\n",
       "[0 rows x 30 columns]"
      ]
     },
     "execution_count": 25,
     "metadata": {},
     "output_type": "execute_result"
    }
   ],
   "source": [
    "df2.head()"
   ]
  },
  {
   "cell_type": "code",
   "execution_count": 26,
   "metadata": {},
   "outputs": [],
   "source": [
    "for i in range(df2.shape[0]):\n",
    "  print(df2.iloc[i]['위도_'], df2.iloc[i]['경도_'] )"
   ]
  },
  {
   "cell_type": "code",
   "execution_count": 27,
   "metadata": {},
   "outputs": [
    {
     "data": {
      "text/html": [
       "<div style=\"width:100%;\"><div style=\"position:relative;width:100%;height:0;padding-bottom:60%;\"><span style=\"color:#565656\">Make this Notebook Trusted to load map: File -> Trust Notebook</span><iframe srcdoc=\"&lt;!DOCTYPE html&gt;\n",
       "&lt;html&gt;\n",
       "&lt;head&gt;\n",
       "    \n",
       "    &lt;meta http-equiv=&quot;content-type&quot; content=&quot;text/html; charset=UTF-8&quot; /&gt;\n",
       "    \n",
       "        &lt;script&gt;\n",
       "            L_NO_TOUCH = false;\n",
       "            L_DISABLE_3D = false;\n",
       "        &lt;/script&gt;\n",
       "    \n",
       "    &lt;style&gt;html, body {width: 100%;height: 100%;margin: 0;padding: 0;}&lt;/style&gt;\n",
       "    &lt;style&gt;#map {position:absolute;top:0;bottom:0;right:0;left:0;}&lt;/style&gt;\n",
       "    &lt;script src=&quot;https://cdn.jsdelivr.net/npm/leaflet@1.9.3/dist/leaflet.js&quot;&gt;&lt;/script&gt;\n",
       "    &lt;script src=&quot;https://code.jquery.com/jquery-1.12.4.min.js&quot;&gt;&lt;/script&gt;\n",
       "    &lt;script src=&quot;https://cdn.jsdelivr.net/npm/bootstrap@5.2.2/dist/js/bootstrap.bundle.min.js&quot;&gt;&lt;/script&gt;\n",
       "    &lt;script src=&quot;https://cdnjs.cloudflare.com/ajax/libs/Leaflet.awesome-markers/2.0.2/leaflet.awesome-markers.js&quot;&gt;&lt;/script&gt;\n",
       "    &lt;link rel=&quot;stylesheet&quot; href=&quot;https://cdn.jsdelivr.net/npm/leaflet@1.9.3/dist/leaflet.css&quot;/&gt;\n",
       "    &lt;link rel=&quot;stylesheet&quot; href=&quot;https://cdn.jsdelivr.net/npm/bootstrap@5.2.2/dist/css/bootstrap.min.css&quot;/&gt;\n",
       "    &lt;link rel=&quot;stylesheet&quot; href=&quot;https://netdna.bootstrapcdn.com/bootstrap/3.0.0/css/bootstrap.min.css&quot;/&gt;\n",
       "    &lt;link rel=&quot;stylesheet&quot; href=&quot;https://cdn.jsdelivr.net/npm/@fortawesome/fontawesome-free@6.2.0/css/all.min.css&quot;/&gt;\n",
       "    &lt;link rel=&quot;stylesheet&quot; href=&quot;https://cdnjs.cloudflare.com/ajax/libs/Leaflet.awesome-markers/2.0.2/leaflet.awesome-markers.css&quot;/&gt;\n",
       "    &lt;link rel=&quot;stylesheet&quot; href=&quot;https://cdn.jsdelivr.net/gh/python-visualization/folium/folium/templates/leaflet.awesome.rotate.min.css&quot;/&gt;\n",
       "    \n",
       "            &lt;meta name=&quot;viewport&quot; content=&quot;width=device-width,\n",
       "                initial-scale=1.0, maximum-scale=1.0, user-scalable=no&quot; /&gt;\n",
       "            &lt;style&gt;\n",
       "                #map_28ef5a2677d7fabe1c9c8238436dfd1a {\n",
       "                    position: relative;\n",
       "                    width: 100.0%;\n",
       "                    height: 100.0%;\n",
       "                    left: 0.0%;\n",
       "                    top: 0.0%;\n",
       "                }\n",
       "                .leaflet-container { font-size: 1rem; }\n",
       "            &lt;/style&gt;\n",
       "        \n",
       "&lt;/head&gt;\n",
       "&lt;body&gt;\n",
       "    \n",
       "    \n",
       "            &lt;div class=&quot;folium-map&quot; id=&quot;map_28ef5a2677d7fabe1c9c8238436dfd1a&quot; &gt;&lt;/div&gt;\n",
       "        \n",
       "&lt;/body&gt;\n",
       "&lt;script&gt;\n",
       "    \n",
       "    \n",
       "            var map_28ef5a2677d7fabe1c9c8238436dfd1a = L.map(\n",
       "                &quot;map_28ef5a2677d7fabe1c9c8238436dfd1a&quot;,\n",
       "                {\n",
       "                    center: [35.0211, 128.681],\n",
       "                    crs: L.CRS.EPSG3857,\n",
       "                    zoom: 10,\n",
       "                    zoomControl: true,\n",
       "                    preferCanvas: false,\n",
       "                }\n",
       "            );\n",
       "\n",
       "            \n",
       "\n",
       "        \n",
       "    \n",
       "            var tile_layer_4544908ba53d204c89ab645188c39748 = L.tileLayer(\n",
       "                &quot;https://{s}.tile.openstreetmap.org/{z}/{x}/{y}.png&quot;,\n",
       "                {&quot;attribution&quot;: &quot;Data by \\u0026copy; \\u003ca target=\\&quot;_blank\\&quot; href=\\&quot;http://openstreetmap.org\\&quot;\\u003eOpenStreetMap\\u003c/a\\u003e, under \\u003ca target=\\&quot;_blank\\&quot; href=\\&quot;http://www.openstreetmap.org/copyright\\&quot;\\u003eODbL\\u003c/a\\u003e.&quot;, &quot;detectRetina&quot;: false, &quot;maxNativeZoom&quot;: 18, &quot;maxZoom&quot;: 18, &quot;minZoom&quot;: 0, &quot;noWrap&quot;: false, &quot;opacity&quot;: 1, &quot;subdomains&quot;: &quot;abc&quot;, &quot;tms&quot;: false}\n",
       "            ).addTo(map_28ef5a2677d7fabe1c9c8238436dfd1a);\n",
       "        \n",
       "&lt;/script&gt;\n",
       "&lt;/html&gt;\" style=\"position:absolute;width:100%;height:100%;left:0;top:0;border:none !important;\" allowfullscreen webkitallowfullscreen mozallowfullscreen></iframe></div></div>"
      ],
      "text/plain": [
       "<folium.folium.Map at 0x134fbd09090>"
      ]
     },
     "execution_count": 27,
     "metadata": {},
     "output_type": "execute_result"
    }
   ],
   "source": [
    "m = folium.Map(\n",
    "    location=[35.0211,128.6810],\n",
    "    zoom_start=10\n",
    ")\n",
    "\n",
    "tooltip = 'Click'\n",
    "\n",
    "# for문, f-string이용\n",
    "for i in range(df2.shape[0]):\n",
    "    folium.Marker(\n",
    "        [df2.iloc[i]['위도'], df2.iloc[i]['경도']],\n",
    "        popup = f'<strong>{df2.iloc[i][\"어장명\"]}</br>{df2.iloc[i][\"정점\"]}</strong>',\n",
    "        tooltip = tooltip\n",
    "    ).add_to(m)\n",
    "m"
   ]
  },
  {
   "cell_type": "code",
   "execution_count": 28,
   "metadata": {},
   "outputs": [
    {
     "data": {
      "text/html": [
       "<div style=\"width:100%;\"><div style=\"position:relative;width:100%;height:0;padding-bottom:60%;\"><span style=\"color:#565656\">Make this Notebook Trusted to load map: File -> Trust Notebook</span><iframe srcdoc=\"&lt;!DOCTYPE html&gt;\n",
       "&lt;html&gt;\n",
       "&lt;head&gt;\n",
       "    \n",
       "    &lt;meta http-equiv=&quot;content-type&quot; content=&quot;text/html; charset=UTF-8&quot; /&gt;\n",
       "    \n",
       "        &lt;script&gt;\n",
       "            L_NO_TOUCH = false;\n",
       "            L_DISABLE_3D = false;\n",
       "        &lt;/script&gt;\n",
       "    \n",
       "    &lt;style&gt;html, body {width: 100%;height: 100%;margin: 0;padding: 0;}&lt;/style&gt;\n",
       "    &lt;style&gt;#map {position:absolute;top:0;bottom:0;right:0;left:0;}&lt;/style&gt;\n",
       "    &lt;script src=&quot;https://cdn.jsdelivr.net/npm/leaflet@1.9.3/dist/leaflet.js&quot;&gt;&lt;/script&gt;\n",
       "    &lt;script src=&quot;https://code.jquery.com/jquery-1.12.4.min.js&quot;&gt;&lt;/script&gt;\n",
       "    &lt;script src=&quot;https://cdn.jsdelivr.net/npm/bootstrap@5.2.2/dist/js/bootstrap.bundle.min.js&quot;&gt;&lt;/script&gt;\n",
       "    &lt;script src=&quot;https://cdnjs.cloudflare.com/ajax/libs/Leaflet.awesome-markers/2.0.2/leaflet.awesome-markers.js&quot;&gt;&lt;/script&gt;\n",
       "    &lt;link rel=&quot;stylesheet&quot; href=&quot;https://cdn.jsdelivr.net/npm/leaflet@1.9.3/dist/leaflet.css&quot;/&gt;\n",
       "    &lt;link rel=&quot;stylesheet&quot; href=&quot;https://cdn.jsdelivr.net/npm/bootstrap@5.2.2/dist/css/bootstrap.min.css&quot;/&gt;\n",
       "    &lt;link rel=&quot;stylesheet&quot; href=&quot;https://netdna.bootstrapcdn.com/bootstrap/3.0.0/css/bootstrap.min.css&quot;/&gt;\n",
       "    &lt;link rel=&quot;stylesheet&quot; href=&quot;https://cdn.jsdelivr.net/npm/@fortawesome/fontawesome-free@6.2.0/css/all.min.css&quot;/&gt;\n",
       "    &lt;link rel=&quot;stylesheet&quot; href=&quot;https://cdnjs.cloudflare.com/ajax/libs/Leaflet.awesome-markers/2.0.2/leaflet.awesome-markers.css&quot;/&gt;\n",
       "    &lt;link rel=&quot;stylesheet&quot; href=&quot;https://cdn.jsdelivr.net/gh/python-visualization/folium/folium/templates/leaflet.awesome.rotate.min.css&quot;/&gt;\n",
       "    \n",
       "            &lt;meta name=&quot;viewport&quot; content=&quot;width=device-width,\n",
       "                initial-scale=1.0, maximum-scale=1.0, user-scalable=no&quot; /&gt;\n",
       "            &lt;style&gt;\n",
       "                #map_e75087eb137a6dfcdf7e482bc6a0e60e {\n",
       "                    position: relative;\n",
       "                    width: 100.0%;\n",
       "                    height: 100.0%;\n",
       "                    left: 0.0%;\n",
       "                    top: 0.0%;\n",
       "                }\n",
       "                .leaflet-container { font-size: 1rem; }\n",
       "            &lt;/style&gt;\n",
       "        \n",
       "&lt;/head&gt;\n",
       "&lt;body&gt;\n",
       "    \n",
       "    \n",
       "            &lt;div class=&quot;folium-map&quot; id=&quot;map_e75087eb137a6dfcdf7e482bc6a0e60e&quot; &gt;&lt;/div&gt;\n",
       "        \n",
       "&lt;/body&gt;\n",
       "&lt;script&gt;\n",
       "    \n",
       "    \n",
       "            var map_e75087eb137a6dfcdf7e482bc6a0e60e = L.map(\n",
       "                &quot;map_e75087eb137a6dfcdf7e482bc6a0e60e&quot;,\n",
       "                {\n",
       "                    center: [35.0211, 128.681],\n",
       "                    crs: L.CRS.EPSG3857,\n",
       "                    zoom: 10,\n",
       "                    zoomControl: true,\n",
       "                    preferCanvas: false,\n",
       "                }\n",
       "            );\n",
       "\n",
       "            \n",
       "\n",
       "        \n",
       "    \n",
       "            var tile_layer_3de712fb2cb8432f006921b11d6f8ffe = L.tileLayer(\n",
       "                &quot;https://{s}.tile.openstreetmap.org/{z}/{x}/{y}.png&quot;,\n",
       "                {&quot;attribution&quot;: &quot;Data by \\u0026copy; \\u003ca target=\\&quot;_blank\\&quot; href=\\&quot;http://openstreetmap.org\\&quot;\\u003eOpenStreetMap\\u003c/a\\u003e, under \\u003ca target=\\&quot;_blank\\&quot; href=\\&quot;http://www.openstreetmap.org/copyright\\&quot;\\u003eODbL\\u003c/a\\u003e.&quot;, &quot;detectRetina&quot;: false, &quot;maxNativeZoom&quot;: 18, &quot;maxZoom&quot;: 18, &quot;minZoom&quot;: 0, &quot;noWrap&quot;: false, &quot;opacity&quot;: 1, &quot;subdomains&quot;: &quot;abc&quot;, &quot;tms&quot;: false}\n",
       "            ).addTo(map_e75087eb137a6dfcdf7e482bc6a0e60e);\n",
       "        \n",
       "&lt;/script&gt;\n",
       "&lt;/html&gt;\" style=\"position:absolute;width:100%;height:100%;left:0;top:0;border:none !important;\" allowfullscreen webkitallowfullscreen mozallowfullscreen></iframe></div></div>"
      ],
      "text/plain": [
       "<folium.folium.Map at 0x134fbd08220>"
      ]
     },
     "execution_count": 28,
     "metadata": {},
     "output_type": "execute_result"
    }
   ],
   "source": [
    "import folium\n",
    "\n",
    "m = folium.Map(\n",
    "    location=[35.0211, 128.6810],\n",
    "    zoom_start=10\n",
    ")\n",
    "\n",
    "tooltip = 'Click'\n",
    "\n",
    "for i in range(df2.shape[0]):\n",
    "    if df2.iloc[i][\"어장명\"] == \"진해만\" and df2.iloc[i][\"정점\"] == 22:\n",
    "        folium.Marker(\n",
    "            [df2.iloc[i]['위도'], df2.iloc[i]['경도']],\n",
    "            popup=f'<strong>{df2.iloc[i][\"어장명\"]}</br>{df2.iloc[i][\"정점\"]}</strong>',\n",
    "            tooltip=tooltip\n",
    "        ).add_to(m)\n",
    "\n",
    "m\n"
   ]
  },
  {
   "cell_type": "code",
   "execution_count": 29,
   "metadata": {},
   "outputs": [
    {
     "data": {
      "text/html": [
       "<div style=\"width:100%;\"><div style=\"position:relative;width:100%;height:0;padding-bottom:60%;\"><span style=\"color:#565656\">Make this Notebook Trusted to load map: File -> Trust Notebook</span><iframe srcdoc=\"&lt;!DOCTYPE html&gt;\n",
       "&lt;html&gt;\n",
       "&lt;head&gt;\n",
       "    \n",
       "    &lt;meta http-equiv=&quot;content-type&quot; content=&quot;text/html; charset=UTF-8&quot; /&gt;\n",
       "    \n",
       "        &lt;script&gt;\n",
       "            L_NO_TOUCH = false;\n",
       "            L_DISABLE_3D = false;\n",
       "        &lt;/script&gt;\n",
       "    \n",
       "    &lt;style&gt;html, body {width: 100%;height: 100%;margin: 0;padding: 0;}&lt;/style&gt;\n",
       "    &lt;style&gt;#map {position:absolute;top:0;bottom:0;right:0;left:0;}&lt;/style&gt;\n",
       "    &lt;script src=&quot;https://cdn.jsdelivr.net/npm/leaflet@1.9.3/dist/leaflet.js&quot;&gt;&lt;/script&gt;\n",
       "    &lt;script src=&quot;https://code.jquery.com/jquery-1.12.4.min.js&quot;&gt;&lt;/script&gt;\n",
       "    &lt;script src=&quot;https://cdn.jsdelivr.net/npm/bootstrap@5.2.2/dist/js/bootstrap.bundle.min.js&quot;&gt;&lt;/script&gt;\n",
       "    &lt;script src=&quot;https://cdnjs.cloudflare.com/ajax/libs/Leaflet.awesome-markers/2.0.2/leaflet.awesome-markers.js&quot;&gt;&lt;/script&gt;\n",
       "    &lt;link rel=&quot;stylesheet&quot; href=&quot;https://cdn.jsdelivr.net/npm/leaflet@1.9.3/dist/leaflet.css&quot;/&gt;\n",
       "    &lt;link rel=&quot;stylesheet&quot; href=&quot;https://cdn.jsdelivr.net/npm/bootstrap@5.2.2/dist/css/bootstrap.min.css&quot;/&gt;\n",
       "    &lt;link rel=&quot;stylesheet&quot; href=&quot;https://netdna.bootstrapcdn.com/bootstrap/3.0.0/css/bootstrap.min.css&quot;/&gt;\n",
       "    &lt;link rel=&quot;stylesheet&quot; href=&quot;https://cdn.jsdelivr.net/npm/@fortawesome/fontawesome-free@6.2.0/css/all.min.css&quot;/&gt;\n",
       "    &lt;link rel=&quot;stylesheet&quot; href=&quot;https://cdnjs.cloudflare.com/ajax/libs/Leaflet.awesome-markers/2.0.2/leaflet.awesome-markers.css&quot;/&gt;\n",
       "    &lt;link rel=&quot;stylesheet&quot; href=&quot;https://cdn.jsdelivr.net/gh/python-visualization/folium/folium/templates/leaflet.awesome.rotate.min.css&quot;/&gt;\n",
       "    \n",
       "            &lt;meta name=&quot;viewport&quot; content=&quot;width=device-width,\n",
       "                initial-scale=1.0, maximum-scale=1.0, user-scalable=no&quot; /&gt;\n",
       "            &lt;style&gt;\n",
       "                #map_2a48afa872ce435abf0a8e661b9c19da {\n",
       "                    position: relative;\n",
       "                    width: 100.0%;\n",
       "                    height: 100.0%;\n",
       "                    left: 0.0%;\n",
       "                    top: 0.0%;\n",
       "                }\n",
       "                .leaflet-container { font-size: 1rem; }\n",
       "            &lt;/style&gt;\n",
       "        \n",
       "&lt;/head&gt;\n",
       "&lt;body&gt;\n",
       "    \n",
       "    \n",
       "            &lt;div class=&quot;folium-map&quot; id=&quot;map_2a48afa872ce435abf0a8e661b9c19da&quot; &gt;&lt;/div&gt;\n",
       "        \n",
       "&lt;/body&gt;\n",
       "&lt;script&gt;\n",
       "    \n",
       "    \n",
       "            var map_2a48afa872ce435abf0a8e661b9c19da = L.map(\n",
       "                &quot;map_2a48afa872ce435abf0a8e661b9c19da&quot;,\n",
       "                {\n",
       "                    center: [35.0211, 128.681],\n",
       "                    crs: L.CRS.EPSG3857,\n",
       "                    zoom: 10,\n",
       "                    zoomControl: true,\n",
       "                    preferCanvas: false,\n",
       "                }\n",
       "            );\n",
       "\n",
       "            \n",
       "\n",
       "        \n",
       "    \n",
       "            var tile_layer_0fbeab142df47ae799425e72d5a503b8 = L.tileLayer(\n",
       "                &quot;https://{s}.tile.openstreetmap.org/{z}/{x}/{y}.png&quot;,\n",
       "                {&quot;attribution&quot;: &quot;Data by \\u0026copy; \\u003ca target=\\&quot;_blank\\&quot; href=\\&quot;http://openstreetmap.org\\&quot;\\u003eOpenStreetMap\\u003c/a\\u003e, under \\u003ca target=\\&quot;_blank\\&quot; href=\\&quot;http://www.openstreetmap.org/copyright\\&quot;\\u003eODbL\\u003c/a\\u003e.&quot;, &quot;detectRetina&quot;: false, &quot;maxNativeZoom&quot;: 18, &quot;maxZoom&quot;: 18, &quot;minZoom&quot;: 0, &quot;noWrap&quot;: false, &quot;opacity&quot;: 1, &quot;subdomains&quot;: &quot;abc&quot;, &quot;tms&quot;: false}\n",
       "            ).addTo(map_2a48afa872ce435abf0a8e661b9c19da);\n",
       "        \n",
       "&lt;/script&gt;\n",
       "&lt;/html&gt;\" style=\"position:absolute;width:100%;height:100%;left:0;top:0;border:none !important;\" allowfullscreen webkitallowfullscreen mozallowfullscreen></iframe></div></div>"
      ],
      "text/plain": [
       "<folium.folium.Map at 0x134f6af7430>"
      ]
     },
     "execution_count": 29,
     "metadata": {},
     "output_type": "execute_result"
    }
   ],
   "source": [
    "import folium\n",
    "\n",
    "m = folium.Map(\n",
    "    location=[35.0211, 128.6810],\n",
    "    zoom_start=10\n",
    ")\n",
    "\n",
    "tooltip = 'Click'\n",
    "\n",
    "for i in range(df2.shape[0]):\n",
    "    if df2.iloc[i][\"어장명\"] == \"진해만\" and df2.iloc[i][\"정점\"] == 21:\n",
    "        folium.Marker(\n",
    "            [df2.iloc[i]['위도'], df2.iloc[i]['경도']],\n",
    "            popup=f'<strong>{df2.iloc[i][\"어장명\"]}</br>{df2.iloc[i][\"정점\"]}</strong>',\n",
    "            tooltip=tooltip\n",
    "        ).add_to(m)\n",
    "\n",
    "m"
   ]
  }
 ],
 "metadata": {
  "kernelspec": {
   "display_name": "base",
   "language": "python",
   "name": "python3"
  },
  "language_info": {
   "codemirror_mode": {
    "name": "ipython",
    "version": 3
   },
   "file_extension": ".py",
   "mimetype": "text/x-python",
   "name": "python",
   "nbconvert_exporter": "python",
   "pygments_lexer": "ipython3",
   "version": "3.10.9"
  },
  "orig_nbformat": 4
 },
 "nbformat": 4,
 "nbformat_minor": 2
}
